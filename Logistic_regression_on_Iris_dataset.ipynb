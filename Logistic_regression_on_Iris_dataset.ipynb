{
  "nbformat": 4,
  "nbformat_minor": 0,
  "metadata": {
    "colab": {
      "provenance": [],
      "authorship_tag": "ABX9TyOE2f+Y5Hr/efsl66kKfgSp",
      "include_colab_link": true
    },
    "kernelspec": {
      "name": "python3",
      "display_name": "Python 3"
    },
    "language_info": {
      "name": "python"
    }
  },
  "cells": [
    {
      "cell_type": "markdown",
      "metadata": {
        "id": "view-in-github",
        "colab_type": "text"
      },
      "source": [
        "<a href=\"https://colab.research.google.com/github/piyushrathore45/DS---Ensemble-Method/blob/main/Logistic_regression_on_Iris_dataset.ipynb\" target=\"_parent\"><img src=\"https://colab.research.google.com/assets/colab-badge.svg\" alt=\"Open In Colab\"/></a>"
      ]
    },
    {
      "cell_type": "code",
      "execution_count": 1,
      "metadata": {
        "colab": {
          "base_uri": "https://localhost:8080/"
        },
        "id": "RFuNUD7qz8cw",
        "outputId": "8106a3d0-3323-48e8-961b-1dc3dc2c1a6a"
      },
      "outputs": [
        {
          "output_type": "stream",
          "name": "stdout",
          "text": [
            "LogisticRegression(max_iter=10000)\n",
            "0.9733333333333334\n"
          ]
        }
      ],
      "source": [
        "from sklearn import datasets\n",
        "df=datasets.load_iris()\n",
        "x=df[\"data\"]\n",
        "y=df[\"target\"]\n",
        "from sklearn.linear_model import LogisticRegression\n",
        "lr=LogisticRegression(max_iter=10000)\n",
        "print(lr.fit(x,y))\n",
        "print(lr.score(x,y))"
      ]
    }
  ]
}